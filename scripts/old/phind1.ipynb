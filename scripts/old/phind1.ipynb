{
 "cells": [
  {
   "cell_type": "code",
   "execution_count": 5,
   "metadata": {},
   "outputs": [],
   "source": [
    "import angr"
   ]
  },
  {
   "cell_type": "code",
   "execution_count": 6,
   "metadata": {},
   "outputs": [],
   "source": [
    "proj = angr.Project(\"../executables/fauxware\", auto_load_libs=False)"
   ]
  },
  {
   "cell_type": "code",
   "execution_count": 13,
   "metadata": {},
   "outputs": [],
   "source": [
    "def is_syscall(state):\n",
    "    instruction = state.inspect.instruction\n",
    "    print(state)\n",
    "    return instruction.opcode == 0x05 and instruction.prefix == 0x0f"
   ]
  },
  {
   "cell_type": "code",
   "execution_count": 8,
   "metadata": {},
   "outputs": [],
   "source": [
    "# Define the starting state\n",
    "state = proj.factory.entry_state()"
   ]
  },
  {
   "cell_type": "code",
   "execution_count": 9,
   "metadata": {},
   "outputs": [],
   "source": [
    "# Create the simulation manager\n",
    "simgr = proj.factory.simulation_manager(state)"
   ]
  },
  {
   "cell_type": "code",
   "execution_count": 14,
   "metadata": {},
   "outputs": [
    {
     "name": "stdout",
     "output_type": "stream",
     "text": [
      "<SimState @ 0x400580>\n"
     ]
    },
    {
     "ename": "AttributeError",
     "evalue": "'NoneType' object has no attribute 'opcode'",
     "output_type": "error",
     "traceback": [
      "\u001b[0;31m---------------------------------------------------------------------------\u001b[0m",
      "\u001b[0;31mAttributeError\u001b[0m                            Traceback (most recent call last)",
      "Cell \u001b[0;32mIn[14], line 1\u001b[0m\n\u001b[0;32m----> 1\u001b[0m \u001b[43msimgr\u001b[49m\u001b[38;5;241;43m.\u001b[39;49m\u001b[43mexplore\u001b[49m\u001b[43m(\u001b[49m\u001b[43mfind\u001b[49m\u001b[38;5;241;43m=\u001b[39;49m\u001b[43mis_syscall\u001b[49m\u001b[43m)\u001b[49m\n",
      "File \u001b[0;32m~/.virtualenvs/angr/lib/python3.8/site-packages/angr/sim_manager.py:315\u001b[0m, in \u001b[0;36mSimulationManager.explore\u001b[0;34m(self, stash, n, find, avoid, find_stash, avoid_stash, cfg, num_find, avoid_priority, **kwargs)\u001b[0m\n\u001b[1;32m    312\u001b[0m         \u001b[39mbreak\u001b[39;00m\n\u001b[1;32m    314\u001b[0m \u001b[39mtry\u001b[39;00m:\n\u001b[0;32m--> 315\u001b[0m     \u001b[39mself\u001b[39;49m\u001b[39m.\u001b[39;49mrun(stash\u001b[39m=\u001b[39;49mstash, n\u001b[39m=\u001b[39;49mn, \u001b[39m*\u001b[39;49m\u001b[39m*\u001b[39;49mkwargs)\n\u001b[1;32m    316\u001b[0m \u001b[39mfinally\u001b[39;00m:\n\u001b[1;32m    317\u001b[0m     \u001b[39mself\u001b[39m\u001b[39m.\u001b[39mremove_technique(tech)\n",
      "File \u001b[0;32m~/.virtualenvs/angr/lib/python3.8/site-packages/angr/sim_manager.py:345\u001b[0m, in \u001b[0;36mSimulationManager.run\u001b[0;34m(self, stash, n, until, **kwargs)\u001b[0m\n\u001b[1;32m    343\u001b[0m \u001b[39mfor\u001b[39;00m _ \u001b[39min\u001b[39;00m itertools\u001b[39m.\u001b[39mcount() \u001b[39mif\u001b[39;00m n \u001b[39mis\u001b[39;00m \u001b[39mNone\u001b[39;00m \u001b[39melse\u001b[39;00m \u001b[39mrange\u001b[39m(\u001b[39m0\u001b[39m, n):\n\u001b[1;32m    344\u001b[0m     \u001b[39mif\u001b[39;00m \u001b[39mnot\u001b[39;00m \u001b[39mself\u001b[39m\u001b[39m.\u001b[39mcomplete() \u001b[39mand\u001b[39;00m \u001b[39mself\u001b[39m\u001b[39m.\u001b[39m_stashes[stash]:\n\u001b[0;32m--> 345\u001b[0m         \u001b[39mself\u001b[39;49m\u001b[39m.\u001b[39;49mstep(stash\u001b[39m=\u001b[39;49mstash, \u001b[39m*\u001b[39;49m\u001b[39m*\u001b[39;49mkwargs)\n\u001b[1;32m    346\u001b[0m         \u001b[39mif\u001b[39;00m \u001b[39mnot\u001b[39;00m (until \u001b[39mand\u001b[39;00m until(\u001b[39mself\u001b[39m)):\n\u001b[1;32m    347\u001b[0m             \u001b[39mcontinue\u001b[39;00m\n",
      "File \u001b[0;32m~/.virtualenvs/angr/lib/python3.8/site-packages/angr/misc/hookset.py:96\u001b[0m, in \u001b[0;36mHookedMethod.__call__\u001b[0;34m(self, *args, **kwargs)\u001b[0m\n\u001b[1;32m     94\u001b[0m current_hook \u001b[39m=\u001b[39m \u001b[39mself\u001b[39m\u001b[39m.\u001b[39mpending\u001b[39m.\u001b[39mpop()\n\u001b[1;32m     95\u001b[0m \u001b[39mtry\u001b[39;00m:\n\u001b[0;32m---> 96\u001b[0m     result \u001b[39m=\u001b[39m current_hook(\u001b[39mself\u001b[39;49m\u001b[39m.\u001b[39;49mfunc\u001b[39m.\u001b[39;49m\u001b[39m__self__\u001b[39;49m, \u001b[39m*\u001b[39;49margs, \u001b[39m*\u001b[39;49m\u001b[39m*\u001b[39;49mkwargs)\n\u001b[1;32m     97\u001b[0m \u001b[39mfinally\u001b[39;00m:\n\u001b[1;32m     98\u001b[0m     \u001b[39mself\u001b[39m\u001b[39m.\u001b[39mpending\u001b[39m.\u001b[39mappend(current_hook)\n",
      "File \u001b[0;32m~/.virtualenvs/angr/lib/python3.8/site-packages/angr/exploration_techniques/explorer.py:108\u001b[0m, in \u001b[0;36mExplorer.step\u001b[0;34m(self, simgr, stash, **kwargs)\u001b[0m\n\u001b[1;32m    106\u001b[0m \u001b[39mdef\u001b[39;00m \u001b[39mstep\u001b[39m(\u001b[39mself\u001b[39m, simgr, stash\u001b[39m=\u001b[39m\u001b[39m\"\u001b[39m\u001b[39mactive\u001b[39m\u001b[39m\"\u001b[39m, \u001b[39m*\u001b[39m\u001b[39m*\u001b[39mkwargs):\n\u001b[1;32m    107\u001b[0m     base_extra_stop_points \u001b[39m=\u001b[39m \u001b[39mset\u001b[39m(kwargs\u001b[39m.\u001b[39mpop(\u001b[39m\"\u001b[39m\u001b[39mextra_stop_points\u001b[39m\u001b[39m\"\u001b[39m, []))\n\u001b[0;32m--> 108\u001b[0m     \u001b[39mreturn\u001b[39;00m simgr\u001b[39m.\u001b[39;49mstep(stash\u001b[39m=\u001b[39;49mstash, extra_stop_points\u001b[39m=\u001b[39;49mbase_extra_stop_points \u001b[39m|\u001b[39;49m \u001b[39mself\u001b[39;49m\u001b[39m.\u001b[39;49m_extra_stop_points, \u001b[39m*\u001b[39;49m\u001b[39m*\u001b[39;49mkwargs)\n",
      "File \u001b[0;32m~/.virtualenvs/angr/lib/python3.8/site-packages/angr/misc/hookset.py:96\u001b[0m, in \u001b[0;36mHookedMethod.__call__\u001b[0;34m(self, *args, **kwargs)\u001b[0m\n\u001b[1;32m     94\u001b[0m current_hook \u001b[39m=\u001b[39m \u001b[39mself\u001b[39m\u001b[39m.\u001b[39mpending\u001b[39m.\u001b[39mpop()\n\u001b[1;32m     95\u001b[0m \u001b[39mtry\u001b[39;00m:\n\u001b[0;32m---> 96\u001b[0m     result \u001b[39m=\u001b[39m current_hook(\u001b[39mself\u001b[39;49m\u001b[39m.\u001b[39;49mfunc\u001b[39m.\u001b[39;49m\u001b[39m__self__\u001b[39;49m, \u001b[39m*\u001b[39;49margs, \u001b[39m*\u001b[39;49m\u001b[39m*\u001b[39;49mkwargs)\n\u001b[1;32m     97\u001b[0m \u001b[39mfinally\u001b[39;00m:\n\u001b[1;32m     98\u001b[0m     \u001b[39mself\u001b[39m\u001b[39m.\u001b[39mpending\u001b[39m.\u001b[39mappend(current_hook)\n",
      "File \u001b[0;32m~/.virtualenvs/angr/lib/python3.8/site-packages/angr/exploration_techniques/suggestions.py:43\u001b[0m, in \u001b[0;36mSuggestions.step\u001b[0;34m(self, simgr, stash, **kwargs)\u001b[0m\n\u001b[1;32m     42\u001b[0m \u001b[39mdef\u001b[39;00m \u001b[39mstep\u001b[39m(\u001b[39mself\u001b[39m, simgr, stash\u001b[39m=\u001b[39m\u001b[39m\"\u001b[39m\u001b[39mactive\u001b[39m\u001b[39m\"\u001b[39m, \u001b[39m*\u001b[39m\u001b[39m*\u001b[39mkwargs):\n\u001b[0;32m---> 43\u001b[0m     simgr\u001b[39m.\u001b[39;49mstep(stash\u001b[39m=\u001b[39;49mstash, \u001b[39m*\u001b[39;49m\u001b[39m*\u001b[39;49mkwargs)\n\u001b[1;32m     45\u001b[0m     \u001b[39mfor\u001b[39;00m state \u001b[39min\u001b[39;00m simgr\u001b[39m.\u001b[39mstashes\u001b[39m.\u001b[39mget(\u001b[39m\"\u001b[39m\u001b[39minterrupted\u001b[39m\u001b[39m\"\u001b[39m, []):\n\u001b[1;32m     46\u001b[0m         \u001b[39mif\u001b[39;00m \u001b[39mid\u001b[39m(state) \u001b[39min\u001b[39;00m \u001b[39mself\u001b[39m\u001b[39m.\u001b[39msuggested:\n",
      "File \u001b[0;32m~/.virtualenvs/angr/lib/python3.8/site-packages/angr/misc/hookset.py:101\u001b[0m, in \u001b[0;36mHookedMethod.__call__\u001b[0;34m(self, *args, **kwargs)\u001b[0m\n\u001b[1;32m     99\u001b[0m     \u001b[39mreturn\u001b[39;00m result\n\u001b[1;32m    100\u001b[0m \u001b[39melse\u001b[39;00m:\n\u001b[0;32m--> 101\u001b[0m     \u001b[39mreturn\u001b[39;00m \u001b[39mself\u001b[39;49m\u001b[39m.\u001b[39;49mfunc(\u001b[39m*\u001b[39;49margs, \u001b[39m*\u001b[39;49m\u001b[39m*\u001b[39;49mkwargs)\n",
      "File \u001b[0;32m~/.virtualenvs/angr/lib/python3.8/site-packages/angr/sim_manager.py:440\u001b[0m, in \u001b[0;36mSimulationManager.step\u001b[0;34m(self, stash, target_stash, n, selector_func, step_func, error_list, successor_func, until, filter_func, **run_args)\u001b[0m\n\u001b[1;32m    437\u001b[0m error_list \u001b[39m=\u001b[39m error_list \u001b[39mif\u001b[39;00m error_list \u001b[39mis\u001b[39;00m \u001b[39mnot\u001b[39;00m \u001b[39mNone\u001b[39;00m \u001b[39melse\u001b[39;00m \u001b[39mself\u001b[39m\u001b[39m.\u001b[39m_errored\n\u001b[1;32m    439\u001b[0m \u001b[39mfor\u001b[39;00m state \u001b[39min\u001b[39;00m \u001b[39mself\u001b[39m\u001b[39m.\u001b[39m_fetch_states(stash\u001b[39m=\u001b[39mstash):\n\u001b[0;32m--> 440\u001b[0m     goto \u001b[39m=\u001b[39m \u001b[39mself\u001b[39;49m\u001b[39m.\u001b[39;49mfilter(state, filter_func\u001b[39m=\u001b[39;49mfilter_func)\n\u001b[1;32m    441\u001b[0m     \u001b[39mif\u001b[39;00m \u001b[39misinstance\u001b[39m(goto, \u001b[39mtuple\u001b[39m):\n\u001b[1;32m    442\u001b[0m         goto, state \u001b[39m=\u001b[39m goto\n",
      "File \u001b[0;32m~/.virtualenvs/angr/lib/python3.8/site-packages/angr/misc/hookset.py:96\u001b[0m, in \u001b[0;36mHookedMethod.__call__\u001b[0;34m(self, *args, **kwargs)\u001b[0m\n\u001b[1;32m     94\u001b[0m current_hook \u001b[39m=\u001b[39m \u001b[39mself\u001b[39m\u001b[39m.\u001b[39mpending\u001b[39m.\u001b[39mpop()\n\u001b[1;32m     95\u001b[0m \u001b[39mtry\u001b[39;00m:\n\u001b[0;32m---> 96\u001b[0m     result \u001b[39m=\u001b[39m current_hook(\u001b[39mself\u001b[39;49m\u001b[39m.\u001b[39;49mfunc\u001b[39m.\u001b[39;49m\u001b[39m__self__\u001b[39;49m, \u001b[39m*\u001b[39;49margs, \u001b[39m*\u001b[39;49m\u001b[39m*\u001b[39;49mkwargs)\n\u001b[1;32m     97\u001b[0m \u001b[39mfinally\u001b[39;00m:\n\u001b[1;32m     98\u001b[0m     \u001b[39mself\u001b[39m\u001b[39m.\u001b[39mpending\u001b[39m.\u001b[39mappend(current_hook)\n",
      "File \u001b[0;32m~/.virtualenvs/angr/lib/python3.8/site-packages/angr/exploration_techniques/explorer.py:112\u001b[0m, in \u001b[0;36mExplorer.filter\u001b[0;34m(self, simgr, state, **kwargs)\u001b[0m\n\u001b[1;32m    111\u001b[0m \u001b[39mdef\u001b[39;00m \u001b[39mfilter\u001b[39m(\u001b[39mself\u001b[39m, simgr, state, \u001b[39m*\u001b[39m\u001b[39m*\u001b[39mkwargs):\n\u001b[0;32m--> 112\u001b[0m     stash \u001b[39m=\u001b[39m \u001b[39mself\u001b[39;49m\u001b[39m.\u001b[39;49m_filter_inner(state)\n\u001b[1;32m    113\u001b[0m     \u001b[39mif\u001b[39;00m stash \u001b[39mis\u001b[39;00m \u001b[39mNone\u001b[39;00m:\n\u001b[1;32m    114\u001b[0m         \u001b[39mreturn\u001b[39;00m simgr\u001b[39m.\u001b[39mfilter(state, \u001b[39m*\u001b[39m\u001b[39m*\u001b[39mkwargs)\n",
      "File \u001b[0;32m~/.virtualenvs/angr/lib/python3.8/site-packages/angr/exploration_techniques/explorer.py:128\u001b[0m, in \u001b[0;36mExplorer._filter_inner\u001b[0;34m(self, state)\u001b[0m\n\u001b[1;32m    126\u001b[0m     \u001b[39mif\u001b[39;00m avoidable \u001b[39mand\u001b[39;00m (avoidable \u001b[39mis\u001b[39;00m \u001b[39mTrue\u001b[39;00m \u001b[39mor\u001b[39;00m state\u001b[39m.\u001b[39maddr \u001b[39min\u001b[39;00m avoidable):\n\u001b[1;32m    127\u001b[0m         \u001b[39mreturn\u001b[39;00m \u001b[39mself\u001b[39m\u001b[39m.\u001b[39mavoid_stash\n\u001b[0;32m--> 128\u001b[0m findable \u001b[39m=\u001b[39m \u001b[39mself\u001b[39;49m\u001b[39m.\u001b[39;49mfind(state)\n\u001b[1;32m    129\u001b[0m \u001b[39mif\u001b[39;00m findable \u001b[39mand\u001b[39;00m (findable \u001b[39mis\u001b[39;00m \u001b[39mTrue\u001b[39;00m \u001b[39mor\u001b[39;00m state\u001b[39m.\u001b[39maddr \u001b[39min\u001b[39;00m findable):\n\u001b[1;32m    130\u001b[0m     \u001b[39mreturn\u001b[39;00m \u001b[39mself\u001b[39m\u001b[39m.\u001b[39mfind_stash\n",
      "Cell \u001b[0;32mIn[13], line 4\u001b[0m, in \u001b[0;36mis_syscall\u001b[0;34m(state)\u001b[0m\n\u001b[1;32m      2\u001b[0m instruction \u001b[38;5;241m=\u001b[39m state\u001b[38;5;241m.\u001b[39minspect\u001b[38;5;241m.\u001b[39minstruction\n\u001b[1;32m      3\u001b[0m \u001b[38;5;28mprint\u001b[39m(state)\n\u001b[0;32m----> 4\u001b[0m \u001b[38;5;28;01mreturn\u001b[39;00m \u001b[43minstruction\u001b[49m\u001b[38;5;241;43m.\u001b[39;49m\u001b[43mopcode\u001b[49m \u001b[38;5;241m==\u001b[39m \u001b[38;5;241m0x05\u001b[39m \u001b[38;5;129;01mand\u001b[39;00m instruction\u001b[38;5;241m.\u001b[39mprefix \u001b[38;5;241m==\u001b[39m \u001b[38;5;241m0x0f\u001b[39m\n",
      "\u001b[0;31mAttributeError\u001b[0m: 'NoneType' object has no attribute 'opcode'"
     ]
    }
   ],
   "source": [
    "simgr.explore(find=is_syscall)"
   ]
  },
  {
   "cell_type": "code",
   "execution_count": null,
   "metadata": {},
   "outputs": [],
   "source": [
    "for found_state in simgr.found:\n",
    "    print(hex(found_state.addr))"
   ]
  }
 ],
 "metadata": {
  "kernelspec": {
   "display_name": "angrproject",
   "language": "python",
   "name": "angrproject"
  },
  "language_info": {
   "codemirror_mode": {
    "name": "ipython",
    "version": 3
   },
   "file_extension": ".py",
   "mimetype": "text/x-python",
   "name": "python",
   "nbconvert_exporter": "python",
   "pygments_lexer": "ipython3",
   "version": "3.8.10"
  },
  "orig_nbformat": 4
 },
 "nbformat": 4,
 "nbformat_minor": 2
}
