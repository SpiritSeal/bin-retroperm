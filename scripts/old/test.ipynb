{
 "cells": [
  {
   "cell_type": "code",
   "execution_count": 1,
   "metadata": {},
   "outputs": [],
   "source": [
    "import angr"
   ]
  },
  {
   "cell_type": "code",
   "execution_count": 3,
   "metadata": {},
   "outputs": [],
   "source": [
    "p = angr.Project('./executables/fauxware', auto_load_libs=False)"
   ]
  },
  {
   "cell_type": "code",
   "execution_count": 4,
   "metadata": {},
   "outputs": [],
   "source": [
    "cfg = p.analyses.CFGFast()"
   ]
  },
  {
   "cell_type": "code",
   "execution_count": 8,
   "metadata": {},
   "outputs": [],
   "source": [
    "blocks = []\n",
    "\n",
    "for func in cfg.kb.functions.values():\n",
    "    for block in func.blocks:\n",
    "        blocks.append(block)"
   ]
  },
  {
   "cell_type": "code",
   "execution_count": 9,
   "metadata": {},
   "outputs": [
    {
     "name": "stdout",
     "output_type": "stream",
     "text": [
      "<Block for 0x4004e0, 9 bytes>\n"
     ]
    }
   ],
   "source": [
    "example = blocks[0]\n",
    "\n",
    "print(example)"
   ]
  },
  {
   "cell_type": "code",
   "execution_count": 10,
   "metadata": {},
   "outputs": [
    {
     "name": "stdout",
     "output_type": "stream",
     "text": [
      "IRSB {\n",
      "   t0:Ity_I64 t1:Ity_I64 t2:Ity_I64 t3:Ity_I64 t4:Ity_I64 t5:Ity_I64 t6:Ity_I64 t7:Ity_I64 t8:Ity_I64\n",
      "\n",
      "   00 | ------ IMark(0x4004e0, 4, 0) ------\n",
      "   01 | t2 = GET:I64(rsp)\n",
      "   02 | t0 = Sub64(t2,0x0000000000000008)\n",
      "   03 | PUT(cc_op) = 0x0000000000000008\n",
      "   04 | PUT(cc_dep1) = t2\n",
      "   05 | PUT(cc_dep2) = 0x0000000000000008\n",
      "   06 | PUT(rip) = 0x00000000004004e4\n",
      "   07 | ------ IMark(0x4004e4, 5, 0) ------\n",
      "   08 | t5 = Sub64(t0,0x0000000000000008)\n",
      "   09 | PUT(rsp) = t5\n",
      "   10 | STle(t5) = 0x00000000004004e9\n",
      "   11 | t7 = Sub64(t5,0x0000000000000080)\n",
      "   12 | ====== AbiHint(0xt7, 128, 0x00000000004005ac) ======\n",
      "   NEXT: PUT(rip) = 0x00000000004005ac; Ijk_Call\n",
      "}\n"
     ]
    }
   ],
   "source": [
    "# Get VEX IR for the block\n",
    "irsb = example.vex\n",
    "\n",
    "# Print the IR\n",
    "print(irsb)"
   ]
  },
  {
   "cell_type": "code",
   "execution_count": null,
   "metadata": {},
   "outputs": [],
   "source": []
  }
 ],
 "metadata": {
  "kernelspec": {
   "display_name": "angrproject",
   "language": "python",
   "name": "angrproject"
  },
  "language_info": {
   "codemirror_mode": {
    "name": "ipython",
    "version": 3
   },
   "file_extension": ".py",
   "mimetype": "text/x-python",
   "name": "python",
   "nbconvert_exporter": "python",
   "pygments_lexer": "ipython3",
   "version": "3.8.10"
  },
  "orig_nbformat": 4
 },
 "nbformat": 4,
 "nbformat_minor": 2
}
